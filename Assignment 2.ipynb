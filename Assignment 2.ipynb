{
 "cells": [
  {
   "cell_type": "code",
   "execution_count": 1,
   "metadata": {},
   "outputs": [
    {
     "name": "stdout",
     "output_type": "stream",
     "text": [
      "Number guessing game\n",
      "Guess a number (between 1 and 9):\n",
      "7\n",
      "Your guess was too high: Guess a number lower than 7\n",
      "5\n",
      "Your guess was too high: Guess a number lower than 5\n",
      "2\n",
      "Your guess was too low: Guess a number higher than 2\n",
      "3\n",
      "Your guess was too low: Guess a number higher than 3\n",
      "4\n",
      "Congratulation YOU WON!!!\n"
     ]
    }
   ],
   "source": [
    "#Question 1\n",
    "import random \n",
    "  \n",
    "print(\"Number guessing game\") \n",
    "\n",
    "answer = random.randint(1, 9) \n",
    "\n",
    "chances = 0\n",
    "  \n",
    "print(\"Guess a number (between 1 and 9):\")  \n",
    "  \n",
    "while chances < 5: \n",
    "\n",
    "    guess = int(input()) \n",
    "\n",
    "    if guess == answer: \n",
    "\n",
    "        print(\"Congratulation YOU WON!!!\") \n",
    "        break       \n",
    " \n",
    "    elif guess < answer: \n",
    "        print(\"Your guess was too low: Guess a number higher than\", guess) \n",
    "             \n",
    "    else: \n",
    "        print(\"Your guess was too high: Guess a number lower than\", guess) \n",
    "    chances += 1\n",
    "    \n",
    "if not chances < 5: \n",
    "    print(\"YOU LOSE!!! The number is\", answer) "
   ]
  },
  {
   "cell_type": "code",
   "execution_count": 5,
   "metadata": {},
   "outputs": [
    {
     "name": "stdout",
     "output_type": "stream",
     "text": [
      "5,10,15,20,25,30\n"
     ]
    }
   ],
   "source": [
    "#Question 2\n",
    "nl=[]\n",
    "for i in range(5,31):\n",
    "    if(i%5==0):\n",
    "          nl.append(str(i))\n",
    "print (','.join(nl))"
   ]
  },
  {
   "cell_type": "code",
   "execution_count": 8,
   "metadata": {},
   "outputs": [],
   "source": [
    "#Question 3\n",
    "from math import sqrt\n",
    "def nearest_square(num):\n",
    "    return round(sqrt(num))**2"
   ]
  },
  {
   "cell_type": "code",
   "execution_count": 9,
   "metadata": {},
   "outputs": [
    {
     "data": {
      "text/plain": [
       "16"
      ]
     },
     "execution_count": 9,
     "metadata": {},
     "output_type": "execute_result"
    }
   ],
   "source": [
    "nearest_square()"
   ]
  },
  {
   "cell_type": "code",
   "execution_count": null,
   "metadata": {},
   "outputs": [],
   "source": []
  }
 ],
 "metadata": {
  "kernelspec": {
   "display_name": "Python 3",
   "language": "python",
   "name": "python3"
  },
  "language_info": {
   "codemirror_mode": {
    "name": "ipython",
    "version": 3
   },
   "file_extension": ".py",
   "mimetype": "text/x-python",
   "name": "python",
   "nbconvert_exporter": "python",
   "pygments_lexer": "ipython3",
   "version": "3.7.6"
  }
 },
 "nbformat": 4,
 "nbformat_minor": 4
}
